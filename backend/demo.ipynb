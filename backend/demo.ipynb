{
 "cells": [
  {
   "cell_type": "code",
   "execution_count": 18,
   "id": "fc6e44c4",
   "metadata": {},
   "outputs": [
    {
     "name": "stdout",
     "output_type": "stream",
     "text": [
      "✅ Summary:\n",
      "\n",
      "{'title': 'Reality TV Stars in the Spotlight', 'content': \"From shocking splits to controversies, reality TV stars are making headlines. Denise Richards' future on Bravo is uncertain after her split from Aaron Phypers, while 'The Valley' star Janet Caperna accuses Danny Booko of sexual assault. Meanwhile, 'Love Island USA' cast member Cierra Ortega exits the show after racial slurs resurface and 'RHONY' alum Ramona Singer has an awkward encounter with an A-list actress.\", 'image_prompt': 'Generate an image of a reality TV star surrounded by cameras, drama, and controversy'}\n"
     ]
    }
   ],
   "source": [
    "from arena_pulse import ArenaPulse\n",
    "from dotenv import load_dotenv\n",
    "# Load the environment variables\n",
    "load_dotenv()\n",
    "\n",
    "# URL to summarize\n",
    "url = \"https://pagesix.com/tag/reality-tv/\"  # Replace with any URL\n",
    "\n",
    "# Run the summarizer\n",
    "try:\n",
    "    pulse = ArenaPulse(url)\n",
    "    result = pulse.summarize_url(url)\n",
    "    print(\"✅ Summary:\\n\")\n",
    "    print(result)\n",
    "except Exception as e:\n",
    "    print(f\"❌ Error occurred: {e}\")\n"
   ]
  },
  {
   "cell_type": "code",
   "execution_count": 1,
   "id": "278494c5",
   "metadata": {},
   "outputs": [
    {
     "name": "stderr",
     "output_type": "stream",
     "text": [
      "c:\\Users\\VINIL\\Desktop\\social_media_application\\venv\\lib\\site-packages\\tqdm\\auto.py:21: TqdmWarning: IProgress not found. Please update jupyter and ipywidgets. See https://ipywidgets.readthedocs.io/en/stable/user_install.html\n",
      "  from .autonotebook import tqdm as notebook_tqdm\n"
     ]
    },
    {
     "name": "stdout",
     "output_type": "stream",
     "text": [
      "\n",
      "🔍 Processing: geography => https://www.sciencedaily.com/news/earth_climate/geography/\n",
      "Loaded as API: https://black-forest-labs-flux-1-schnell.hf.space ✔\n",
      "\n",
      "🔍 Processing: sports => https://sports.ndtv.com/\n",
      "Loaded as API: https://black-forest-labs-flux-1-schnell.hf.space ✔\n",
      "\n",
      "🔍 Processing: space => https://spacenews.com/\n",
      "Loaded as API: https://black-forest-labs-flux-1-schnell.hf.space ✔\n",
      "\n",
      "🔍 Processing: gaming => https://gamerant.com/gaming/\n",
      "Loaded as API: https://black-forest-labs-flux-1-schnell.hf.space ✔\n",
      "\n",
      "🔍 Processing: e-sports => https://esportsinsider.com/\n",
      "Loaded as API: https://black-forest-labs-flux-1-schnell.hf.space ✔\n",
      "\n",
      "🔍 Processing: crypto => https://cryptonews.com/\n",
      "Loaded as API: https://black-forest-labs-flux-1-schnell.hf.space ✔\n",
      "\n",
      "🔍 Processing: stocks => https://www.marketwatch.com/\n",
      "Loaded as API: https://black-forest-labs-flux-1-schnell.hf.space ✔\n",
      "\n",
      "🔍 Processing: health => https://www.healthline.com/health-news\n",
      "Loaded as API: https://black-forest-labs-flux-1-schnell.hf.space ✔\n",
      "\n",
      "🔍 Processing: fitness => https://indianexpress.com/section/lifestyle/fitness/\n",
      "Loaded as API: https://black-forest-labs-flux-1-schnell.hf.space ✔\n",
      "\n",
      "🔍 Processing: weather => https://timesofindia.indiatimes.com/topic/weather/news\n",
      "Loaded as API: https://black-forest-labs-flux-1-schnell.hf.space ✔\n",
      "❌ Failed to process weather (https://timesofindia.indiatimes.com/topic/weather/news): [Errno 11001] getaddrinfo failed\n",
      "\n",
      "🔍 Processing: reality-shows => https://pagesix.com/tag/reality-tv/\n",
      "Loaded as API: https://black-forest-labs-flux-1-schnell.hf.space ✔\n",
      "\n",
      "🔍 Processing: start-ups => https://indianstartupnews.com/\n",
      "Loaded as API: https://black-forest-labs-flux-1-schnell.hf.space ✔\n",
      "\n",
      "🔍 Processing: tech => https://www.technewsworld.com/\n",
      "Loaded as API: https://black-forest-labs-flux-1-schnell.hf.space ✔\n",
      "\n",
      "🔍 Processing: anime => https://www.animenewsnetwork.com/news/\n",
      "Loaded as API: https://black-forest-labs-flux-1-schnell.hf.space ✔\n",
      "\n",
      "🔍 Processing: celeb => https://people.com/celebrity/\n",
      "❌ Failed to process celeb (https://people.com/celebrity/): 'NoneType' object is not callable\n",
      "\n",
      "🔍 Processing: meme => https://indianexpress.com/about/memes/\n",
      "Loaded as API: https://black-forest-labs-flux-1-schnell.hf.space ✔\n"
     ]
    }
   ],
   "source": [
    "from all_together import AllTogether\n",
    "from dotenv import load_dotenv\n",
    "load_dotenv\n",
    "final = AllTogether()\n",
    "links = {\n",
    "    'geography':'https://www.sciencedaily.com/news/earth_climate/geography/',\n",
    "    'sports': 'https://sports.ndtv.com/',\n",
    "    'space': 'https://spacenews.com/',\n",
    "    'gaming':'https://gamerant.com/gaming/',\n",
    "    'e-sports':'https://esportsinsider.com/',\n",
    "    'crypto':'https://cryptonews.com/',\n",
    "    'stocks':'https://www.marketwatch.com/',\n",
    "    'health':'https://www.healthline.com/health-news',\n",
    "    'fitness':'https://indianexpress.com/section/lifestyle/fitness/',\n",
    "    'weather':'https://timesofindia.indiatimes.com/topic/weather/news',\n",
    "    'reality-shows':'https://pagesix.com/tag/reality-tv/',\n",
    "    'start-ups':'https://indianstartupnews.com/',\n",
    "    'tech':'https://www.technewsworld.com/',\n",
    "    'anime':'https://www.animenewsnetwork.com/news/',\n",
    "    'celeb':'https://people.com/celebrity/',\n",
    "    'meme':'https://indianexpress.com/about/memes/'\n",
    "}\n",
    "result = final.generating_final(links)"
   ]
  },
  {
   "cell_type": "code",
   "execution_count": 1,
   "id": "63236c72",
   "metadata": {},
   "outputs": [
    {
     "name": "stderr",
     "output_type": "stream",
     "text": [
      "c:\\Users\\VINIL\\Desktop\\social_media_application\\venv\\lib\\site-packages\\tqdm\\auto.py:21: TqdmWarning: IProgress not found. Please update jupyter and ipywidgets. See https://ipywidgets.readthedocs.io/en/stable/user_install.html\n",
      "  from .autonotebook import tqdm as notebook_tqdm\n"
     ]
    },
    {
     "name": "stdout",
     "output_type": "stream",
     "text": [
      "\n",
      "🔍 Processing: geography => https://www.sciencedaily.com/news/earth_climate/geography/\n",
      "Loaded as API: https://black-forest-labs-flux-1-schnell.hf.space ✔\n",
      "\n",
      "🔍 Processing: sports => https://sports.ndtv.com/\n",
      "Loaded as API: https://black-forest-labs-flux-1-schnell.hf.space ✔\n",
      "\n",
      "🔍 Processing: space => https://www.space.com/news\n",
      "Loaded as API: https://black-forest-labs-flux-1-schnell.hf.space ✔\n",
      "\n",
      "🔍 Processing: gaming => https://gamerant.com/gaming/\n",
      "Loaded as API: https://black-forest-labs-flux-1-schnell.hf.space ✔\n",
      "\n",
      "🔍 Processing: e-sports => https://esportsinsider.com/latest-news\n",
      "Loaded as API: https://black-forest-labs-flux-1-schnell.hf.space ✔\n",
      "\n",
      "🔍 Processing: crypto => https://www.coindesk.com/\n",
      "Loaded as API: https://black-forest-labs-flux-1-schnell.hf.space ✔\n",
      "\n",
      "🔍 Processing: stocks => https://www.marketwatch.com/\n",
      "Loaded as API: https://black-forest-labs-flux-1-schnell.hf.space ✔\n",
      "\n",
      "🔍 Processing: health => https://www.healthline.com/health-news\n",
      "Loaded as API: https://black-forest-labs-flux-1-schnell.hf.space ✔\n",
      "\n",
      "🔍 Processing: fitness => https://indianexpress.com/section/lifestyle/fitness/\n",
      "Loaded as API: https://black-forest-labs-flux-1-schnell.hf.space ✔\n",
      "\n",
      "🔍 Processing: weather => https://timesofindia.indiatimes.com/topic/weather/news\n",
      "Loaded as API: https://black-forest-labs-flux-1-schnell.hf.space ✔\n",
      "\n",
      "🔍 Processing: reality-shows => https://pagesix.com/tag/reality-tv/\n",
      "Loaded as API: https://black-forest-labs-flux-1-schnell.hf.space ✔\n",
      "\n",
      "🔍 Processing: start-ups => https://indianstartupnews.com/\n",
      "Loaded as API: https://black-forest-labs-flux-1-schnell.hf.space ✔\n",
      "\n",
      "🔍 Processing: tech => https://www.reuters.com/technology/\n",
      "Loaded as API: https://black-forest-labs-flux-1-schnell.hf.space ✔\n",
      "\n",
      "🔍 Processing: anime => https://www.animenewsnetwork.com/news/\n",
      "Loaded as API: https://black-forest-labs-flux-1-schnell.hf.space ✔\n",
      "\n",
      "🔍 Processing: movies => https://screenrant.com/movie-news/\n",
      "Loaded as API: https://black-forest-labs-flux-1-schnell.hf.space ✔\n",
      "\n",
      "🔍 Processing: meme => https://indianexpress.com/about/memes/\n",
      "Loaded as API: https://black-forest-labs-flux-1-schnell.hf.space ✔\n",
      "✅ Successfully saved 16 entries to MongoDB.\n"
     ]
    }
   ],
   "source": [
    "from all_together import AllTogether\n",
    "main = AllTogether()\n",
    "main.save_to_mongo()\n"
   ]
  }
 ],
 "metadata": {
  "kernelspec": {
   "display_name": "venv",
   "language": "python",
   "name": "python3"
  },
  "language_info": {
   "codemirror_mode": {
    "name": "ipython",
    "version": 3
   },
   "file_extension": ".py",
   "mimetype": "text/x-python",
   "name": "python",
   "nbconvert_exporter": "python",
   "pygments_lexer": "ipython3",
   "version": "3.10.10"
  }
 },
 "nbformat": 4,
 "nbformat_minor": 5
}
